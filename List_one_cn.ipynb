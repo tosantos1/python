{
  "nbformat": 4,
  "nbformat_minor": 0,
  "metadata": {
    "colab": {
      "name": "List-one-cn.ipynb",
      "provenance": [],
      "collapsed_sections": [],
      "authorship_tag": "ABX9TyM72hQIUEKJ51xYgYaIgY4+",
      "include_colab_link": true
    },
    "kernelspec": {
      "name": "python3",
      "display_name": "Python 3"
    },
    "language_info": {
      "name": "python"
    }
  },
  "cells": [
    {
      "cell_type": "markdown",
      "metadata": {
        "id": "view-in-github",
        "colab_type": "text"
      },
      "source": [
        "<a href=\"https://colab.research.google.com/github/tosantos1/python/blob/main/List_one_cn.ipynb\" target=\"_parent\"><img src=\"https://colab.research.google.com/assets/colab-badge.svg\" alt=\"Open In Colab\"/></a>"
      ]
    },
    {
      "cell_type": "markdown",
      "metadata": {
        "id": "jR3jMjgIZpKG"
      },
      "source": [
        "Python - If elif else - \n",
        "\n",
        "Faça um  programa para calcular o valor da n-ésima derivada da função seno(x). A função deve receber como entradas as variáveis n (número de derivadas) e x (valor dado em graus). \n"
      ]
    },
    {
      "cell_type": "code",
      "metadata": {
        "colab": {
          "base_uri": "https://localhost:8080/"
        },
        "id": "RVbOTf5eZutc",
        "outputId": "ca7828aa-ed5b-48b8-bf66-65ecd6e99d35"
      },
      "source": [
        "import numpy as np\n",
        "\n",
        "def sin(x):\n",
        "    return np.sin(x)\n",
        "def cos(x):\n",
        "    return np.cos(x)\t\t\t\n",
        "n = int(input())\n",
        "x = int(input())\n",
        "r = (x/180)*np.pi\n",
        "aux = sin(r)\n",
        "for i in range(1,n+1,1):\n",
        "    if i % 2 == 0:\n",
        "        if aux == cos(r):\n",
        "            aux = -sin(r)\n",
        "        else:\n",
        "            aux = sin(r)\n",
        "    else:\n",
        "        if aux == sin(r):\n",
        "            aux = cos(r)\n",
        "        else:\n",
        "            aux = -cos(r)\n",
        "\n",
        "print(aux)"
      ],
      "execution_count": 6,
      "outputs": [
        {
          "output_type": "stream",
          "text": [
            "20\n",
            "30\n",
            "0.49999999999999994\n"
          ],
          "name": "stdout"
        }
      ]
    },
    {
      "cell_type": "markdown",
      "metadata": {
        "id": "G45Njx2WZvHX"
      },
      "source": [
        "Python: recebe números em um vetor -\n",
        "O programa deve ler 3 números do tipo float digitados pelo usuário, armazenar em um vetor e, em seguida, apresentar o vetor armazenado."
      ]
    },
    {
      "cell_type": "code",
      "metadata": {
        "id": "I3_w1M1uZxkV",
        "colab": {
          "base_uri": "https://localhost:8080/"
        },
        "outputId": "507d1250-f162-4be2-d9f7-c43212acd72a"
      },
      "source": [
        "vector = []\n",
        "\n",
        "for v in range(3):\n",
        "   vector.append(float(input()))\n",
        "   \n",
        "print(vector)"
      ],
      "execution_count": 5,
      "outputs": [
        {
          "output_type": "stream",
          "text": [
            "1\n",
            "2\n",
            "3\n",
            "[1.0, 2.0, 3.0]\n"
          ],
          "name": "stdout"
        }
      ]
    },
    {
      "cell_type": "markdown",
      "metadata": {
        "id": "0iPIFRZZvUCu"
      },
      "source": [
        "Python: Derivada de seno\n",
        "Faça uma rotina para calcular o valor da derivada \"n\" da função sen(t0), após os valores de \"n\" e \"t0\" serem informados pelo usuário"
      ]
    },
    {
      "cell_type": "code",
      "metadata": {
        "id": "NKht6TSXvf1P"
      },
      "source": [
        "from math import sin, cos\n",
        "\n",
        "n = int(input())\n",
        "t0 = float(input())\n",
        "\n",
        "ax = sin(t0)\n",
        "\n",
        "\n",
        "for i in range(n):\n",
        "    if i % 2 == 0:\n",
        "        if ax == sin(t0):\n",
        "            ax = cos(t0)\n",
        "        else:\n",
        "            ax = -cos(t0)\n",
        "            \n",
        "    else:\n",
        "        if ax == cos(t0):\n",
        "            ax = -sin(t0)\n",
        "        else:\n",
        "            ax = sin(t0)\n",
        "                \n",
        "print(ax)"
      ],
      "execution_count": null,
      "outputs": []
    },
    {
      "cell_type": "markdown",
      "metadata": {
        "id": "6zeyx2hDZx_V"
      },
      "source": [
        "Python: Ordena vetor e calcula a mediana\n"
      ]
    },
    {
      "cell_type": "code",
      "metadata": {
        "id": "JL9gZ6NhZ1XV"
      },
      "source": [
        "vector = []\n",
        "for n in range(5):\n",
        "    number = float(input())\n",
        "    vector.append(number)\n",
        "    vector.sort()\n",
        "    \n",
        "print(vector)\n",
        "print(vector[2])"
      ],
      "execution_count": null,
      "outputs": []
    },
    {
      "cell_type": "markdown",
      "metadata": {
        "id": "C5L65qZR6BU7"
      },
      "source": [
        "Python: Derivada \"n\" da função \"cos(w0*t0)\" - ​Implemente um código para calcular o valor da n-ésima derivada da função f(t)=cos(w0*t) em relação a \"t\" no ponto inicial \"t0\". Os valores de n, w0 e t0 serem informados pelo usuário."
      ]
    },
    {
      "cell_type": "code",
      "metadata": {
        "id": "0RLRrhk26J8m"
      },
      "source": [
        "import numpy as np\n",
        "\n",
        "def cos(x,y):\n",
        "    return np.cos((x*y))\n",
        "    \n",
        "def sin(x,y):\n",
        "    return np.sin((x*y))\n",
        "    \n",
        "n = int(input())\n",
        "w0 = float(input())\n",
        "t0 = float(input())\n",
        "ax = cos(w0,t0)\n",
        "\n",
        "for i in range(n):\n",
        "    if i % 2 == 0:\n",
        "        if ax == cos(w0,t0):\n",
        "            ax = -sin(w0,t0)*(w0**(i+1))\n",
        "        else:\n",
        "            ax = sin(w0,t0)*(w0**(i+1))\n",
        "    else:\n",
        "        if ax == sin(w0,t0):\n",
        "            ax = cos(w0,t0)*(w0**(i+1))\n",
        "        else:\n",
        "            ax = -cos(w0,t0)*(w0**(i+1))\n",
        "print(ax)"
      ],
      "execution_count": null,
      "outputs": []
    },
    {
      "cell_type": "markdown",
      "metadata": {
        "id": "SMDybXGBZ6k8"
      },
      "source": [
        "Python: Fatorial utilizando laço FOR"
      ]
    },
    {
      "cell_type": "code",
      "metadata": {
        "id": "l6zNqy1NZ-ol"
      },
      "source": [
        "number = int(input())\n",
        "\n",
        "factorial = 1\n",
        "\n",
        "for i in range(1, number + 1):\n",
        "    factorial = factorial * i\n",
        "    \n",
        "print(factorial)"
      ],
      "execution_count": null,
      "outputs": []
    },
    {
      "cell_type": "markdown",
      "metadata": {
        "id": "yO9T3wntLbR7"
      },
      "source": [
        "Python: Aproximar por Taylor a função exp(x) - Faça um programa para aproximar a função exe^xe utilizando a série de Taylor. O programa deve solicitar ao usuário os valores de x0(ponto inicial da aproximação),  x (valor onde ocorrerá a aproximação) e o número \"n\" de termos utilizados na aproximação."
      ]
    },
    {
      "cell_type": "code",
      "metadata": {
        "id": "wVIEiFZtLn3K"
      },
      "source": [
        ""
      ],
      "execution_count": null,
      "outputs": []
    },
    {
      "cell_type": "markdown",
      "metadata": {
        "id": "Jw8eaE7YaB1d"
      },
      "source": [
        "Python: Fatorial utilizando o módulo math."
      ]
    },
    {
      "cell_type": "code",
      "metadata": {
        "id": "lkKIUOuZaEjF"
      },
      "source": [
        "import math\n",
        "\n",
        "n = int(input())\n",
        "f = math.factorial(n)\n",
        "\n",
        "print(f)"
      ],
      "execution_count": null,
      "outputs": []
    }
  ]
}